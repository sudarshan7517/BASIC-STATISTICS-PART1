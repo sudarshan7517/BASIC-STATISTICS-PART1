{
 "cells": [
  {
   "cell_type": "markdown",
   "id": "1c0f21a2",
   "metadata": {},
   "source": [
    "# Basic Statistics level_1"
   ]
  },
  {
   "cell_type": "markdown",
   "id": "03961fec",
   "metadata": {},
   "source": [
    "# Q9_a :"
   ]
  },
  {
   "cell_type": "code",
   "execution_count": 1,
   "id": "9eaa8743",
   "metadata": {
    "scrolled": true
   },
   "outputs": [],
   "source": [
    "# importing libraries\n",
    "import pandas as pd"
   ]
  },
  {
   "cell_type": "code",
   "execution_count": 2,
   "id": "1fff4642",
   "metadata": {
    "scrolled": true
   },
   "outputs": [],
   "source": [
    "DataFrame=pd.read_csv(\"Q9_a.csv\")"
   ]
  },
  {
   "cell_type": "code",
   "execution_count": 5,
   "id": "749b354b",
   "metadata": {
    "scrolled": true
   },
   "outputs": [],
   "source": [
    "DataFrame.drop(['Index'],inplace=True,axis=1)"
   ]
  },
  {
   "cell_type": "code",
   "execution_count": 6,
   "id": "a8a3cc3f",
   "metadata": {
    "scrolled": true
   },
   "outputs": [
    {
     "name": "stdout",
     "output_type": "stream",
     "text": [
      "speed   -0.117510\n",
      "dist     0.806895\n",
      "dtype: float64\n"
     ]
    }
   ],
   "source": [
    "# Calculating Skewness\n",
    "skewness=DataFrame.skew()\n",
    "print(skewness)"
   ]
  },
  {
   "cell_type": "code",
   "execution_count": 7,
   "id": "a28d7680",
   "metadata": {
    "scrolled": true
   },
   "outputs": [
    {
     "name": "stdout",
     "output_type": "stream",
     "text": [
      "speed   -0.508994\n",
      "dist     0.405053\n",
      "dtype: float64\n"
     ]
    }
   ],
   "source": [
    "# Calculating Kurtosis\n",
    "kurtosis=DataFrame.kurt()\n",
    "print(kurtosis)"
   ]
  },
  {
   "cell_type": "markdown",
   "id": "0e96f1aa",
   "metadata": {},
   "source": [
    "# Q9_b"
   ]
  },
  {
   "cell_type": "code",
   "execution_count": 8,
   "id": "a4c7da79",
   "metadata": {
    "scrolled": true
   },
   "outputs": [],
   "source": [
    "import pandas as pd \n",
    "pd.set_option('display.max_rows',None)"
   ]
  },
  {
   "cell_type": "code",
   "execution_count": 14,
   "id": "1db5addc",
   "metadata": {
    "scrolled": true
   },
   "outputs": [],
   "source": [
    "Q9_b=pd.read_csv('Q9_b.csv')"
   ]
  },
  {
   "cell_type": "code",
   "execution_count": 16,
   "id": "70eb9c49",
   "metadata": {
    "scrolled": true
   },
   "outputs": [
    {
     "name": "stdout",
     "output_type": "stream",
     "text": [
      "Unnamed: 0    0.000000\n",
      "SP            1.611450\n",
      "WT           -0.614753\n",
      "dtype: float64\n"
     ]
    }
   ],
   "source": [
    "Skewness=Q9_b.skew()\n",
    "print(Skewness)"
   ]
  },
  {
   "cell_type": "code",
   "execution_count": 17,
   "id": "8ea304be",
   "metadata": {
    "scrolled": true
   },
   "outputs": [
    {
     "name": "stdout",
     "output_type": "stream",
     "text": [
      "Unnamed: 0   -1.200000\n",
      "SP            2.977329\n",
      "WT            0.950291\n",
      "dtype: float64\n"
     ]
    }
   ],
   "source": [
    "Kurtosis=Q9_b.kurt()\n",
    "print(Kurtosis)"
   ]
  },
  {
   "cell_type": "code",
   "execution_count": null,
   "id": "500e3aac",
   "metadata": {
    "scrolled": true
   },
   "outputs": [],
   "source": []
  },
  {
   "cell_type": "markdown",
   "id": "deec2b73",
   "metadata": {},
   "source": [
    "# Q20:"
   ]
  },
  {
   "cell_type": "code",
   "execution_count": 12,
   "id": "f68af966",
   "metadata": {},
   "outputs": [],
   "source": [
    "from scipy import stats\n",
    "import seaborn as sns\n",
    "import warnings\n",
    "warnings.filterwarnings('ignore')"
   ]
  },
  {
   "cell_type": "code",
   "execution_count": 4,
   "id": "ef4e7c0c",
   "metadata": {
    "scrolled": true
   },
   "outputs": [],
   "source": [
    "cars=pd.read_csv('cars.csv')"
   ]
  },
  {
   "cell_type": "code",
   "execution_count": 34,
   "id": "e2347083",
   "metadata": {},
   "outputs": [
    {
     "data": {
      "text/plain": [
       "0.3475939251582705"
      ]
     },
     "execution_count": 34,
     "metadata": {},
     "output_type": "execute_result"
    }
   ],
   "source": [
    "# P(MPG>38)\n",
    "1-stats.norm.cdf(38,data.MPG.mean(),data.MPG.std()) \n"
   ]
  },
  {
   "cell_type": "code",
   "execution_count": 44,
   "id": "8422b994",
   "metadata": {},
   "outputs": [
    {
     "data": {
      "text/plain": [
       "0.7293498762151616"
      ]
     },
     "execution_count": 44,
     "metadata": {},
     "output_type": "execute_result"
    }
   ],
   "source": [
    "# P(MPG<40)\n",
    "stats.norm.cdf(40,data.MPG.mean(),data.MPG.std()) "
   ]
  },
  {
   "cell_type": "code",
   "execution_count": 47,
   "id": "2d145283",
   "metadata": {},
   "outputs": [
    {
     "data": {
      "text/plain": [
       "0.8988689169682046"
      ]
     },
     "execution_count": 47,
     "metadata": {},
     "output_type": "execute_result"
    }
   ],
   "source": [
    "# P (20<MPG<50)\n",
    "stats.norm.cdf(50,data.MPG.mean(),data.MPG.std())- stats.norm.cdf(20,data.MPG.mean(),data.MPG.std()) "
   ]
  },
  {
   "cell_type": "code",
   "execution_count": null,
   "id": "0b006760",
   "metadata": {},
   "outputs": [],
   "source": []
  },
  {
   "cell_type": "markdown",
   "id": "d76ffc15",
   "metadata": {},
   "source": [
    "# Q21_a:"
   ]
  },
  {
   "cell_type": "code",
   "execution_count": 22,
   "id": "64d687c4",
   "metadata": {},
   "outputs": [],
   "source": [
    "import pandas as pd \n",
    "import matplotlib.pyplot as plt\n",
    "import seaborn as sns"
   ]
  },
  {
   "cell_type": "code",
   "execution_count": 23,
   "id": "53ee18d8",
   "metadata": {},
   "outputs": [],
   "source": [
    "cars=pd.read_csv('cars.csv') "
   ]
  },
  {
   "cell_type": "code",
   "execution_count": 24,
   "id": "cbcef911",
   "metadata": {},
   "outputs": [
    {
     "data": {
      "text/plain": [
       "count    81.000000\n",
       "mean     34.422076\n",
       "std       9.131445\n",
       "min      12.101263\n",
       "25%      27.856252\n",
       "50%      35.152727\n",
       "75%      39.531633\n",
       "max      53.700681\n",
       "Name: MPG, dtype: float64"
      ]
     },
     "execution_count": 24,
     "metadata": {},
     "output_type": "execute_result"
    }
   ],
   "source": [
    "cars.MPG.describe()"
   ]
  },
  {
   "cell_type": "code",
   "execution_count": 28,
   "id": "e40980d2",
   "metadata": {},
   "outputs": [
    {
     "data": {
      "text/plain": [
       "<matplotlib.legend.Legend at 0x23678c10100>"
      ]
     },
     "execution_count": 28,
     "metadata": {},
     "output_type": "execute_result"
    },
    {
     "data": {
      "image/png": "[encoded data removed]",
      "text/plain": [
       "<Figure size 432x288 with 1 Axes>"
      ]
     },
     "metadata": {
      "needs_background": "light"
     },
     "output_type": "display_data"
    }
   ],
   "source": [
    "sns.distplot(cars.MPG, label= 'MPG of cars')\n",
    "plt.xlabel('MPG')\n",
    "plt.ylabel('Density')\n",
    "plt.show()"
   ]
  },
  {
   "cell_type": "code",
   "execution_count": 30,
   "id": "8cef4a27",
   "metadata": {},
   "outputs": [
    {
     "data": {
      "text/plain": [
       "<AxesSubplot:xlabel='MPG'>"
      ]
     },
     "execution_count": 30,
     "metadata": {},
     "output_type": "execute_result"
    },
    {
     "data": {
      "image/png": "[encoded data removed]",
      "text/plain": [
       "<Figure size 432x288 with 1 Axes>"
      ]
     },
     "metadata": {
      "needs_background": "light"
     },
     "output_type": "display_data"
    }
   ],
   "source": [
    "sns.boxplot(cars.MPG)"
   ]
  },
  {
   "cell_type": "code",
   "execution_count": null,
   "id": "b7af8577",
   "metadata": {},
   "outputs": [],
   "source": []
  },
  {
   "cell_type": "markdown",
   "id": "d666a872",
   "metadata": {},
   "source": [
    "# Q21_b:"
   ]
  },
  {
   "cell_type": "code",
   "execution_count": 66,
   "id": "aec0c926",
   "metadata": {},
   "outputs": [],
   "source": [
    "import pandas as pd \n",
    "import matplotlib.pyplot as plt\n",
    "import seaborn as sns\n",
    "df=pd.read_csv('wc_at.csv')"
   ]
  },
  {
   "cell_type": "code",
   "execution_count": 59,
   "id": "95988096",
   "metadata": {},
   "outputs": [
    {
     "data": {
      "text/plain": [
       "<AxesSubplot:xlabel='Waist', ylabel='Density'>"
      ]
     },
     "execution_count": 59,
     "metadata": {},
     "output_type": "execute_result"
    },
    {
     "data": {
      "image/png": "[encoded data removed]",
      "text/plain": [
       "<Figure size 432x288 with 1 Axes>"
      ]
     },
     "metadata": {
      "needs_background": "light"
     },
     "output_type": "display_data"
    }
   ],
   "source": [
    "sns.distplot(df.Waist)"
   ]
  },
  {
   "cell_type": "code",
   "execution_count": 61,
   "id": "725afc5e",
   "metadata": {},
   "outputs": [
    {
     "data": {
      "text/plain": [
       "<AxesSubplot:xlabel='Waist'>"
      ]
     },
     "execution_count": 61,
     "metadata": {},
     "output_type": "execute_result"
    },
    {
     "data": {
      "image/png": "[encoded data removed]",
      "text/plain": [
       "<Figure size 432x288 with 1 Axes>"
      ]
     },
     "metadata": {
      "needs_background": "light"
     },
     "output_type": "display_data"
    }
   ],
   "source": [
    "sns.boxplot(df.Waist)"
   ]
  },
  {
   "cell_type": "markdown",
   "id": "69732a4e",
   "metadata": {},
   "source": [
    "### Both the whisker are of same length, Median is slightly toeards left, Data is fairly symmetric."
   ]
  },
  {
   "cell_type": "markdown",
   "id": "0af4e369",
   "metadata": {},
   "source": [
    "# For AT"
   ]
  },
  {
   "cell_type": "code",
   "execution_count": 62,
   "id": "4e3c5bcb",
   "metadata": {},
   "outputs": [
    {
     "data": {
      "text/plain": [
       "<AxesSubplot:xlabel='AT', ylabel='Density'>"
      ]
     },
     "execution_count": 62,
     "metadata": {},
     "output_type": "execute_result"
    },
    {
     "data": {
      "image/png": "[encoded data removed]",
      "text/plain": [
       "<Figure size 432x288 with 1 Axes>"
      ]
     },
     "metadata": {
      "needs_background": "light"
     },
     "output_type": "display_data"
    }
   ],
   "source": [
    "sns.distplot(df.AT)"
   ]
  },
  {
   "cell_type": "code",
   "execution_count": 63,
   "id": "c8353702",
   "metadata": {},
   "outputs": [
    {
     "data": {
      "text/plain": [
       "<AxesSubplot:xlabel='AT'>"
      ]
     },
     "execution_count": 63,
     "metadata": {},
     "output_type": "execute_result"
    },
    {
     "data": {
      "image/png": "[encoded data removed]",
      "text/plain": [
       "<Figure size 432x288 with 1 Axes>"
      ]
     },
     "metadata": {
      "needs_background": "light"
     },
     "output_type": "display_data"
    }
   ],
   "source": [
    "sns.boxplot(df.AT)"
   ]
  },
  {
   "cell_type": "markdown",
   "id": "54c7a292",
   "metadata": {},
   "source": [
    "### Right whisker is larger than left whisker, we can say that data is positively skewed."
   ]
  },
  {
   "cell_type": "code",
   "execution_count": null,
   "id": "ae974ad5",
   "metadata": {},
   "outputs": [],
   "source": []
  }
 ],
 "metadata": {
  "kernelspec": {
   "display_name": "Python 3 (ipykernel)",
   "language": "python",
   "name": "python3"
  },
  "language_info": {
   "codemirror_mode": {
    "name": "ipython",
    "version": 3
   },
   "file_extension": ".py",
   "mimetype": "text/x-python",
   "name": "python",
   "nbconvert_exporter": "python",
   "pygments_lexer": "ipython3",
   "version": "3.9.12"
  }
 },
 "nbformat": 4,
 "nbformat_minor": 5
}
